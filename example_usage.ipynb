{
 "cells": [
  {
   "cell_type": "code",
   "execution_count": 1,
   "metadata": {},
   "outputs": [],
   "source": [
    "import eidl\n",
    "import brightway2 as bw"
   ]
  },
  {
   "cell_type": "code",
   "execution_count": 2,
   "metadata": {},
   "outputs": [],
   "source": [
    "bw.projects.set_current('eidl_demo')"
   ]
  },
  {
   "cell_type": "code",
   "execution_count": 3,
   "metadata": {},
   "outputs": [
    {
     "name": "stdout",
     "output_type": "stream",
     "text": [
      "Creating default biosphere\n",
      "\n"
     ]
    },
    {
     "name": "stderr",
     "output_type": "stream",
     "text": [
      "Writing activities to SQLite3 database:\n",
      "0%                          100%\n",
      "[##########                    ] | ETA: 00:00:00"
     ]
    },
    {
     "name": "stdout",
     "output_type": "stream",
     "text": [
      "Applying strategy: normalize_units\n",
      "Applying strategy: drop_unspecified_subcategories\n",
      "Applied 2 strategies in 0.00 seconds\n"
     ]
    },
    {
     "name": "stderr",
     "output_type": "stream",
     "text": [
      "[##############################] | ETA: 00:00:00\n",
      "Total time elapsed: 00:00:00\n"
     ]
    },
    {
     "name": "stdout",
     "output_type": "stream",
     "text": [
      "Title: Writing activities to SQLite3 database:\n",
      "  Started: 04/25/2018 14:28:19\n",
      "  Finished: 04/25/2018 14:28:19\n",
      "  Total time elapsed: 00:00:00\n",
      "  CPU %: 63.10\n",
      "  Memory %: 0.93\n",
      "Created database: biosphere3\n",
      "Creating default LCIA methods\n",
      "\n",
      "Applying strategy: normalize_units\n",
      "Applying strategy: set_biosphere_type\n",
      "Applying strategy: drop_unspecified_subcategories\n",
      "Applying strategy: link_iterable_by_fields\n",
      "Applied 4 strategies in 0.98 seconds\n",
      "Wrote 718 LCIA methods with 178008 characterization factors\n",
      "Creating core data migrations\n",
      "\n"
     ]
    }
   ],
   "source": [
    "bw.bw2setup()"
   ]
  },
  {
   "cell_type": "code",
   "execution_count": 4,
   "metadata": {},
   "outputs": [
    {
     "name": "stdout",
     "output_type": "stream",
     "text": [
      "ecoinvent username: my_username\n",
      "ecoinvent password: ················\n",
      "logging in to ecoinvent homepage...\n",
      "login successful!\n",
      "\n",
      " available versions:\n",
      "a 3.4\n",
      "b 3.3\n",
      "c 3.2\n",
      "d 3.1\n",
      "e 3.01\n",
      "version: a\n",
      "\n",
      " system models:\n",
      "a apos\n",
      "b consequential\n",
      "c cutoff\n",
      "system model: c\n",
      "downloading cutoff 3.4 ...\n",
      "download finished!: /tmp/tmpk4ripmd7/cutoff34.7z\n",
      "\n",
      "patool: Extracting /tmp/tmpk4ripmd7/cutoff34.7z ...\n",
      "patool: running /usr/bin/7z x -o/tmp/tmpk4ripmd7 -- /tmp/tmpk4ripmd7/cutoff34.7z\n",
      "patool: ... /tmp/tmpk4ripmd7/cutoff34.7z extracted to `/tmp/tmpk4ripmd7'.\n",
      "Extracting XML data from 14889 datasets\n",
      "Extracted 14889 datasets in 13.80 seconds\n",
      "Applying strategy: normalize_units\n",
      "Applying strategy: remove_zero_amount_coproducts\n",
      "Applying strategy: remove_zero_amount_inputs_with_no_activity\n",
      "Applying strategy: remove_unnamed_parameters\n",
      "Applying strategy: es2_assign_only_product_with_amount_as_reference_product\n",
      "Applying strategy: assign_single_product_as_activity\n",
      "Applying strategy: create_composite_code\n",
      "Applying strategy: drop_unspecified_subcategories\n",
      "Applying strategy: fix_ecoinvent_flows_pre34\n",
      "Applying strategy: link_biosphere_by_flow_uuid\n",
      "Applying strategy: link_internal_technosphere_by_composite_code\n",
      "Applying strategy: delete_exchanges_missing_activity\n",
      "Applying strategy: delete_ghost_exchanges\n",
      "Applying strategy: remove_uncertainty_from_negative_loss_exchanges\n",
      "Applying strategy: fix_unreasonably_high_lognormal_uncertainties\n",
      "Applying strategy: set_lognormal_loc_value\n",
      "Applied 16 strategies in 4.56 seconds\n",
      "14889 datasets\n",
      "520205 exchanges\n",
      "0 unlinked exchanges\n",
      "  \n",
      "\n",
      "Write database cutoff34 in project eidl_demo?\n",
      "[y]/n y\n"
     ]
    },
    {
     "name": "stderr",
     "output_type": "stream",
     "text": [
      "Writing activities to SQLite3 database:\n",
      "0%                          100%\n",
      "[##############################] | ETA: 00:00:00\n",
      "Total time elapsed: 00:01:22\n"
     ]
    },
    {
     "name": "stdout",
     "output_type": "stream",
     "text": [
      "Title: Writing activities to SQLite3 database:\n",
      "  Started: 04/25/2018 14:33:09\n",
      "  Finished: 04/25/2018 14:34:32\n",
      "  Total time elapsed: 00:01:22\n",
      "  CPU %: 56.10\n",
      "  Memory %: 7.07\n",
      "Created database: cutoff34\n"
     ]
    }
   ],
   "source": [
    "eidl.get_ecoinvent()"
   ]
  }
 ],
 "metadata": {
  "kernelspec": {
   "display_name": "Python [conda env:eidl_test]",
   "language": "python",
   "name": "conda-env-eidl_test-py"
  },
  "language_info": {
   "codemirror_mode": {
    "name": "ipython",
    "version": 3
   },
   "file_extension": ".py",
   "mimetype": "text/x-python",
   "name": "python",
   "nbconvert_exporter": "python",
   "pygments_lexer": "ipython3",
   "version": "3.6.5"
  }
 },
 "nbformat": 4,
 "nbformat_minor": 2
}
